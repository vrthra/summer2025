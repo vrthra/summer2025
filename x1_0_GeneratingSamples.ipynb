{
 "cells": [
  {
   "cell_type": "markdown",
   "id": "e06c4682",
   "metadata": {},
   "source": [
    "# Generating Samples"
   ]
  },
  {
   "cell_type": "markdown",
   "id": "35abcdb3",
   "metadata": {},
   "source": [
    "In this notebook we will show how to generate valid samples for a given parser without using a grammar."
   ]
  },
  {
   "cell_type": "markdown",
   "id": "94e2517c",
   "metadata": {},
   "source": [
    "## Examples"
   ]
  },
  {
   "cell_type": "markdown",
   "id": "e83f99e9",
   "metadata": {},
   "source": [
    "First we import the convenience utilities."
   ]
  },
  {
   "cell_type": "code",
   "execution_count": null,
   "id": "d3acfd4a",
   "metadata": {},
   "outputs": [],
   "source": [
    "import src.utils as utils"
   ]
  },
  {
   "cell_type": "markdown",
   "id": "68d8343b",
   "metadata": {},
   "source": [
    "### Calculator.py"
   ]
  },
  {
   "cell_type": "code",
   "execution_count": null,
   "id": "78081219",
   "metadata": {},
   "outputs": [],
   "source": [
    "calculator = utils.load_file('subjects/calculator.py', 'calculator')"
   ]
  },
  {
   "cell_type": "code",
   "execution_count": null,
   "id": "bf53aafc",
   "metadata": {},
   "outputs": [],
   "source": [
    "#%load subjects/calculator.py"
   ]
  },
  {
   "cell_type": "markdown",
   "id": "71bd7d65",
   "metadata": {},
   "source": [
    "## The error handler"
   ]
  },
  {
   "cell_type": "markdown",
   "id": "31108d96",
   "metadata": {},
   "source": [
    "We often need to interpret the error we get back. We use a simple exception class to capture the error."
   ]
  },
  {
   "cell_type": "code",
   "execution_count": null,
   "id": "ac31dd0b",
   "metadata": {},
   "outputs": [],
   "source": [
    "with utils.ExpectError():\n",
    "     calculator.main('xyz')"
   ]
  },
  {
   "cell_type": "markdown",
   "id": "f3527421",
   "metadata": {},
   "source": [
    "## A random fuzzer."
   ]
  },
  {
   "cell_type": "code",
   "execution_count": null,
   "id": "86e26eb7",
   "metadata": {},
   "outputs": [],
   "source": [
    "import random\n",
    "random.seed(0)"
   ]
  },
  {
   "cell_type": "code",
   "execution_count": null,
   "id": "701df3ee",
   "metadata": {},
   "outputs": [],
   "source": [
    "import string"
   ]
  },
  {
   "cell_type": "code",
   "execution_count": null,
   "id": "fd70d233",
   "metadata": {},
   "outputs": [],
   "source": [
    "def fuzzer(max_length=100):\n",
    "    string_length = random.randrange(1, max_length + 1)\n",
    "    return ''.join([random.choice(string.printable) for c in range(string_length)])"
   ]
  },
  {
   "cell_type": "code",
   "execution_count": null,
   "id": "e6998ba2",
   "metadata": {},
   "outputs": [],
   "source": [
    "fuzzer()"
   ]
  },
  {
   "cell_type": "markdown",
   "id": "d3a84c63",
   "metadata": {},
   "source": [
    "What happens if you feed this input to the program?"
   ]
  },
  {
   "cell_type": "code",
   "execution_count": null,
   "id": "1ab09b23",
   "metadata": {},
   "outputs": [],
   "source": [
    "with utils.ExpectError():\n",
    "    s = fuzzer()\n",
    "    print(repr(s))\n",
    "    calculator.main(s)"
   ]
  },
  {
   "cell_type": "markdown",
   "id": "c130c06f",
   "metadata": {},
   "source": [
    "This is rather unsatisfying. We need a better way to reach deeper into the program. Let us observe the error again, this time with a plausible partial input."
   ]
  },
  {
   "cell_type": "code",
   "execution_count": null,
   "id": "fd83d285",
   "metadata": {},
   "outputs": [],
   "source": [
    "with utils.ExpectError():\n",
    "     calculator.main('(1+2)de')"
   ]
  },
  {
   "cell_type": "markdown",
   "id": "3934dbd3",
   "metadata": {},
   "source": [
    "As you can see, the exception we got precisely indicates exactly where the parse error occurred."
   ]
  },
  {
   "cell_type": "code",
   "execution_count": null,
   "id": "981e4578",
   "metadata": {},
   "outputs": [],
   "source": [
    "'(1+2)de'[0:5]"
   ]
  },
  {
   "cell_type": "markdown",
   "id": "41eb8836",
   "metadata": {},
   "source": [
    "## Adding Feedback\n",
    "\n",
    "Can we make use of the feedback from the fuzzer to construct better inputs?"
   ]
  },
  {
   "cell_type": "code",
   "execution_count": null,
   "id": "3dc3d95c",
   "metadata": {},
   "outputs": [],
   "source": [
    "import enum"
   ]
  },
  {
   "cell_type": "code",
   "execution_count": null,
   "id": "ca1eccb7",
   "metadata": {},
   "outputs": [],
   "source": [
    "class ExprStatus(enum.Enum):\n",
    "    Complete = 0\n",
    "    Unterminated = -1\n",
    "    Unexpected = -2"
   ]
  },
  {
   "cell_type": "code",
   "execution_count": null,
   "id": "4bcb9672",
   "metadata": {},
   "outputs": [],
   "source": [
    "class ExpectExprError:\n",
    "    def __init__(self, s, log=False):\n",
    "        self.boundary = None\n",
    "        self.result = None\n",
    "        self.s = s\n",
    "        self.log = log\n",
    "\n",
    "    def __enter__(self):\n",
    "        return self\n",
    "\n",
    "    def __exit__(self, exc_type, exc_value, tb):\n",
    "        if exc_type is None:\n",
    "            self.boundary = 0\n",
    "            self.result = ExprStatus.Complete\n",
    "            return\n",
    "        inp, self.boundary = exc_value.args\n",
    "        if self.boundary >= len(self.s):\n",
    "            self.result = ExprStatus.Unterminated\n",
    "        elif self.boundary < len(self.s):\n",
    "            self.result =  ExprStatus.Unexpected\n",
    "        else:\n",
    "            assert False\n",
    "        return True"
   ]
  },
  {
   "cell_type": "code",
   "execution_count": null,
   "id": "2af62972",
   "metadata": {},
   "outputs": [],
   "source": [
    "with ExpectExprError('(1+2x)') as e:\n",
    "     calculator.main(e.s)\n",
    "e.boundary, e.result"
   ]
  },
  {
   "cell_type": "code",
   "execution_count": null,
   "id": "281ddfc8",
   "metadata": {},
   "outputs": [],
   "source": [
    "with ExpectExprError('(1+2') as e:\n",
    "     calculator.main(e.s)\n",
    "e.boundary, e.result"
   ]
  },
  {
   "cell_type": "code",
   "execution_count": null,
   "id": "03d3f52c",
   "metadata": {},
   "outputs": [],
   "source": [
    "with ExpectExprError('(1+2)') as e:\n",
    "     calculator.main(e.s)\n",
    "e.boundary, e.result"
   ]
  },
  {
   "cell_type": "code",
   "execution_count": null,
   "id": "13f8dfec",
   "metadata": {},
   "outputs": [],
   "source": [
    "with ExpectExprError('(1+2)x') as e:\n",
    "     calculator.main(e.s)\n",
    "e.boundary, e.result"
   ]
  },
  {
   "cell_type": "markdown",
   "id": "54f9c8b2",
   "metadata": {},
   "source": [
    "## Building the Evolutionary Algorithm"
   ]
  },
  {
   "cell_type": "code",
   "execution_count": null,
   "id": "7592b8e5",
   "metadata": {},
   "outputs": [],
   "source": [
    "def get_expr_fitness(s):\n",
    "    with ExpectExprError(s) as e:\n",
    "        calculator.main(e.s)\n",
    "    match e.result:\n",
    "        case ExprStatus.Complete:\n",
    "            return 1.0/len(e.s)\n",
    "        case ExprStatus.Unexpected:\n",
    "            return len(e.s) - e.boundary\n",
    "        case ExprStatus.Unterminated:\n",
    "            return 1\n",
    "    assert False, (s, e)"
   ]
  },
  {
   "cell_type": "code",
   "execution_count": null,
   "id": "df9e0ff3",
   "metadata": {},
   "outputs": [],
   "source": [
    "class Evolver:\n",
    "    def __init__(self, fitness_fn=None, delta=0.1, log=True):\n",
    "        self.fitness_fn = fitness_fn\n",
    "        self.log = log\n",
    "        self.delta = delta\n",
    "        \n",
    "    def get_fitness(self, s):\n",
    "        return self.fitness_fn(s)"
   ]
  },
  {
   "cell_type": "code",
   "execution_count": null,
   "id": "23a7e482",
   "metadata": {},
   "outputs": [],
   "source": [
    "expr_evolver = Evolver(get_expr_fitness)"
   ]
  },
  {
   "cell_type": "code",
   "execution_count": null,
   "id": "961b2e35",
   "metadata": {},
   "outputs": [],
   "source": [
    "expr_evolver.get_fitness('(1+2)')"
   ]
  },
  {
   "cell_type": "code",
   "execution_count": null,
   "id": "5741b422",
   "metadata": {},
   "outputs": [],
   "source": [
    "expr_evolver.get_fitness('(1+(2*4+4))')"
   ]
  },
  {
   "cell_type": "code",
   "execution_count": null,
   "id": "3808e77d",
   "metadata": {},
   "outputs": [],
   "source": [
    "expr_evolver.get_fitness('(1+2)234')"
   ]
  },
  {
   "cell_type": "code",
   "execution_count": null,
   "id": "7ab165b6",
   "metadata": {},
   "outputs": [],
   "source": [
    "expr_evolver.get_fitness('(1+2+3')"
   ]
  },
  {
   "cell_type": "code",
   "execution_count": null,
   "id": "37038bd8",
   "metadata": {
    "scrolled": true
   },
   "outputs": [],
   "source": [
    "expr_evolver.get_fitness('(1+2+3XXY')"
   ]
  },
  {
   "cell_type": "code",
   "execution_count": null,
   "id": "b83935e9",
   "metadata": {},
   "outputs": [],
   "source": [
    "class Evolver(Evolver):\n",
    "    def create_population(self, size):\n",
    "        return [fuzzer() for i in range(size)]"
   ]
  },
  {
   "cell_type": "code",
   "execution_count": null,
   "id": "c865c8b2",
   "metadata": {},
   "outputs": [],
   "source": [
    "expr_evolver = Evolver(get_expr_fitness)"
   ]
  },
  {
   "cell_type": "code",
   "execution_count": null,
   "id": "2dbb8e62",
   "metadata": {},
   "outputs": [],
   "source": [
    "expr_evolver.create_population(10)"
   ]
  },
  {
   "cell_type": "code",
   "execution_count": null,
   "id": "0ce34246",
   "metadata": {},
   "outputs": [],
   "source": [
    "class Evolver(Evolver):\n",
    "    def evaluate_population(self, population):\n",
    "        fitness = [self.get_fitness(x) for x in population]\n",
    "        return list(zip(population, fitness))"
   ]
  },
  {
   "cell_type": "code",
   "execution_count": null,
   "id": "27bd480f",
   "metadata": {},
   "outputs": [],
   "source": [
    "expr_evolver = Evolver(get_expr_fitness)"
   ]
  },
  {
   "cell_type": "code",
   "execution_count": null,
   "id": "ae1a5b49",
   "metadata": {},
   "outputs": [],
   "source": [
    "population = expr_evolver.create_population(100)\n",
    "expr_evolver.evaluate_population(population)"
   ]
  },
  {
   "cell_type": "code",
   "execution_count": null,
   "id": "06b14b45",
   "metadata": {},
   "outputs": [],
   "source": [
    "class Evolver(Evolver):\n",
    "    def selection(self, evaluated_population, tournament_size):\n",
    "        competition = random.sample(evaluated_population, tournament_size)\n",
    "        winner = min(competition, key=lambda individual: individual[1])[0]\n",
    "        # Return a copy of the selected individual\n",
    "        assert winner\n",
    "        return winner[:]"
   ]
  },
  {
   "cell_type": "code",
   "execution_count": null,
   "id": "d2b05c14",
   "metadata": {},
   "outputs": [],
   "source": [
    "class Evolver(Evolver):\n",
    "    def crossover(self, parent1, parent2):\n",
    "        assert parent1\n",
    "        assert parent2\n",
    "        pos = random.randint(1, len(parent1))\n",
    "\n",
    "        offspring1 = parent1[:pos] + parent2[pos:]\n",
    "        offspring2 = parent2[:pos] + parent1[pos:]\n",
    "        assert offspring1\n",
    "        assert offspring2\n",
    "\n",
    "        return (offspring1, offspring2)"
   ]
  },
  {
   "cell_type": "code",
   "execution_count": null,
   "id": "9a35e05f",
   "metadata": {},
   "outputs": [],
   "source": [
    "class Evolver(Evolver):\n",
    "    def mutate(self, chromosome):\n",
    "        assert chromosome\n",
    "        mutated = chromosome[:]\n",
    "        P = 1.0 / len(mutated)\n",
    "\n",
    "        for pos in range(len(mutated)):\n",
    "            if random.random() < P:\n",
    "                new_c = chr(int(random.gauss(ord(mutated[pos]), 100) % 65536))\n",
    "                mutated = mutated[:pos] + new_c + mutated[pos + 1:]\n",
    "        return mutated"
   ]
  },
  {
   "cell_type": "code",
   "execution_count": null,
   "id": "73f05b0d",
   "metadata": {},
   "outputs": [],
   "source": [
    "class Evolver(Evolver):\n",
    "    def genetic_algorithm(self):\n",
    "        generation = 0\n",
    "        population = self.create_population(100)\n",
    "        fitness = self.evaluate_population(population)\n",
    "        best = min(fitness, key=lambda item: item[1])\n",
    "        best_individual = best[0]\n",
    "        best_fitness = best[1]\n",
    "        if self.log:\n",
    "            print(\"Best fitness of initial population: %s - %.10f\" % (repr(best_individual), best_fitness))\n",
    "\n",
    "        # Stop when optimum found, or we run out of patience\n",
    "        while best_fitness > self.delta and generation < 1000:\n",
    "            if self.log:\n",
    "                print('.', best_fitness)\n",
    "            # The next generation will have the same size as the current one\n",
    "            new_population = []\n",
    "            while len(new_population) < len(population):\n",
    "                # Selection\n",
    "                offspring1 = self.selection(fitness, 10)\n",
    "                offspring2 = self.selection(fitness, 10)\n",
    "\n",
    "                # Crossover\n",
    "                if random.random() < 0.7:\n",
    "                    (offspring1, offspring2) = self.crossover(offspring1, offspring2)\n",
    "\n",
    "                # Mutation\n",
    "                offspring1 = self.mutate(offspring1)\n",
    "                offspring2 = self.mutate(offspring2)\n",
    "\n",
    "                new_population.append(offspring1)\n",
    "                new_population.append(offspring2)\n",
    "\n",
    "            # Once full, the new population replaces the old one\n",
    "            generation += 1\n",
    "            population = new_population\n",
    "            fitness = self.evaluate_population(population)\n",
    "\n",
    "            best = min(fitness, key=lambda item: item[1])\n",
    "            best_individual = best[0]\n",
    "            best_fitness = best[1]\n",
    "            if self.log:\n",
    "                print(\"Best fitness at generation %d: %s - %.8f\" % (generation, repr(best_individual), best_fitness))\n",
    "\n",
    "        if self.log:\n",
    "            print(\"Best individual: %s, fitness %.10f\" %(repr(best_individual), best_fitness))\n",
    "        return best_individual, best_fitness"
   ]
  },
  {
   "cell_type": "code",
   "execution_count": null,
   "id": "b7801ff5",
   "metadata": {},
   "outputs": [],
   "source": [
    "expr_evolver = Evolver(get_expr_fitness)"
   ]
  },
  {
   "cell_type": "code",
   "execution_count": null,
   "id": "b53a9a59",
   "metadata": {},
   "outputs": [],
   "source": [
    "expr_evolver.genetic_algorithm()"
   ]
  },
  {
   "cell_type": "code",
   "execution_count": null,
   "id": "383e962a",
   "metadata": {},
   "outputs": [],
   "source": [
    "class ExprEvolver(Evolver):\n",
    "    def get_fitness(self, s):\n",
    "        with ExpectExprError(s, log=self.log) as e:\n",
    "            calculator.main(e.s)\n",
    "        match e.result:\n",
    "            case ExprStatus.Complete:\n",
    "                return 1.0/len(e.s)\n",
    "            case ExprStatus.Unexpected:\n",
    "                return len(e.s) - e.boundary\n",
    "            case ExprStatus.Unterminated:\n",
    "                return 1\n",
    "        assert False, (s, e)"
   ]
  },
  {
   "cell_type": "code",
   "execution_count": null,
   "id": "7a41fe59",
   "metadata": {},
   "outputs": [],
   "source": [
    "expr_evolver = ExprEvolver(log=False)"
   ]
  },
  {
   "cell_type": "code",
   "execution_count": null,
   "id": "2d21b56c",
   "metadata": {},
   "outputs": [],
   "source": [
    "for i in range(10):\n",
    "    v = expr_evolver.genetic_algorithm()\n",
    "    print(repr(v))"
   ]
  },
  {
   "cell_type": "markdown",
   "id": "eec76802",
   "metadata": {},
   "source": [
    "### JSON\n",
    "Generating JSON can be slow. (Only if we have enough time)."
   ]
  },
  {
   "cell_type": "code",
   "execution_count": null,
   "id": "9aea9a93",
   "metadata": {},
   "outputs": [],
   "source": [
    "class JStatus(enum.Enum):\n",
    "    Complete = 0\n",
    "    Extra = 1\n",
    "    Unterminated = -1\n",
    "    Expecting = -2"
   ]
  },
  {
   "cell_type": "code",
   "execution_count": null,
   "id": "c0f5543f",
   "metadata": {},
   "outputs": [],
   "source": [
    "import subjects.microjson as microjson"
   ]
  },
  {
   "cell_type": "code",
   "execution_count": null,
   "id": "0b0f7c53",
   "metadata": {},
   "outputs": [],
   "source": [
    "class ExpectJSONError:\n",
    "    def __init__(self, s=None, log=False):\n",
    "        self.msg = None\n",
    "        self.boundary = None\n",
    "        self.result = None\n",
    "        self.s = s\n",
    "        self.log = log\n",
    "\n",
    "    def __enter__(self):\n",
    "        return self\n",
    "\n",
    "    def __exit__(self, exc_type, exc_value, tb):\n",
    "        if exc_type is None:\n",
    "            self.boundary = 0\n",
    "            self.result = JStatus.Complete\n",
    "            return\n",
    "        json_error = exc_value\n",
    "        msg = str(exc_value)\n",
    "        if self.log:\n",
    "            print(msg, file=sys.stderr)\n",
    "        if msg.startswith('extra data after JSON at position'):\n",
    "            self.result = JStatus.Extra\n",
    "        elif msg.startswith('malformed JSON data at position'):\n",
    "            self.result = JStatus.Expecting\n",
    "        elif msg.startswith('missing colon after key at position'):\n",
    "            self.result = JStatus.Expecting\n",
    "        elif msg.startswith('expected null at position'):\n",
    "            self.result = JStatus.Expecting\n",
    "        elif msg.startswith('expected boolean at position'):\n",
    "            self.result = JStatus.Expecting\n",
    "        elif msg.startswith('truncated JSON data at position'):                                                       \n",
    "            self.result = JStatus.Unterminated\n",
    "        else:\n",
    "            # Not all exceptions have been specifically caught in the interest of simplicity.\n",
    "            # assert False, msg\n",
    "            self.result = JStatus.Expecting\n",
    "        self.boundary = exc_value.pos\n",
    "        return True"
   ]
  },
  {
   "cell_type": "code",
   "execution_count": null,
   "id": "e08f275e",
   "metadata": {},
   "outputs": [],
   "source": [
    "error_data = [\n",
    "    #expected null at position 0, \"'n%m\\ri<Q8P<t{STo~V&iH|_pJu}8_*fB\\r'\"\n",
    "    'n%m\\ri<Q8P<t{STo~V&iH|_pJu}8_*fB\\r',\n",
    "    # expected boolean at position 0, \"'tWI6n )AB/'\"\n",
    "    'tWI6n )AB/',\n",
    "    # missing colon after key at position 36, \"'fn1+\"AC8fwp{@cQ'\"\n",
    "    'fn1+\"AC8fwp{@cQ'\n",
    "]"
   ]
  },
  {
   "cell_type": "code",
   "execution_count": null,
   "id": "04636bda",
   "metadata": {},
   "outputs": [],
   "source": [
    "for x in error_data:\n",
    "    with ExpectJSONError(x) as e:\n",
    "        microjson.main(e.s)\n",
    "    print(e.boundary, e.result)"
   ]
  },
  {
   "cell_type": "code",
   "execution_count": null,
   "id": "fc237fba",
   "metadata": {},
   "outputs": [],
   "source": [
    "with ExpectJSONError() as e:\n",
    "     microjson.main('[\"abc\"]de')\n",
    "e.boundary, e.result"
   ]
  },
  {
   "cell_type": "code",
   "execution_count": null,
   "id": "47ea071c",
   "metadata": {},
   "outputs": [],
   "source": [
    "with ExpectJSONError() as e:\n",
    "     microjson.main('[\"abc')\n",
    "e.boundary, e.result"
   ]
  },
  {
   "cell_type": "code",
   "execution_count": null,
   "id": "28bdd536",
   "metadata": {},
   "outputs": [],
   "source": [
    "with ExpectJSONError() as e:\n",
    "     microjson.main('[ab')\n",
    "e.boundary, e.result"
   ]
  },
  {
   "cell_type": "code",
   "execution_count": null,
   "id": "49a54cd7",
   "metadata": {},
   "outputs": [],
   "source": [
    "with ExpectJSONError() as e:\n",
    "     microjson.main('[1,2,3]')\n",
    "e.boundary, e.result"
   ]
  },
  {
   "cell_type": "code",
   "execution_count": null,
   "id": "01f286df",
   "metadata": {},
   "outputs": [],
   "source": [
    "class JSONEvolver(Evolver):\n",
    "    def get_fitness(self, s):\n",
    "        with ExpectJSONError(s, self.log) as e:\n",
    "            microjson.main(e.s)\n",
    "        match e.result:\n",
    "            case JStatus.Complete:\n",
    "                return 1.0/len(e.s)\n",
    "            case JStatus.Extra:\n",
    "                return len(s) - e.boundary\n",
    "                # better to be incomplete than incorrect.\n",
    "                return len(s) * 0.1\n",
    "            case JStatus.Expecting:\n",
    "                if len(s) == e.boundary:\n",
    "                    return 1\n",
    "                return len(s) - e.boundary\n",
    "            case JStatus.Unterminated:\n",
    "                return 1\n",
    "        assert False, (s, e)"
   ]
  },
  {
   "cell_type": "code",
   "execution_count": null,
   "id": "fd4fed72",
   "metadata": {},
   "outputs": [],
   "source": [
    "json_evolver = JSONEvolver(log=False)"
   ]
  },
  {
   "cell_type": "markdown",
   "id": "c44ca6d4",
   "metadata": {},
   "source": [
    "**Can be really slow**"
   ]
  },
  {
   "cell_type": "code",
   "execution_count": null,
   "id": "c02c0b56",
   "metadata": {
    "scrolled": true
   },
   "outputs": [],
   "source": [
    "for i in range(10):\n",
    "    v = json_evolver.genetic_algorithm()\n",
    "    print(repr(v))"
   ]
  },
  {
   "cell_type": "markdown",
   "id": "54b3988e",
   "metadata": {},
   "source": [
    "# Done"
   ]
  },
  {
   "cell_type": "code",
   "execution_count": null,
   "id": "83eb1065",
   "metadata": {},
   "outputs": [],
   "source": [
    "#%tb"
   ]
  }
 ],
 "metadata": {
  "kernelspec": {
   "display_name": "Python 3 (ipykernel)",
   "language": "python",
   "name": "python3"
  },
  "language_info": {
   "codemirror_mode": {
    "name": "ipython",
    "version": 3
   },
   "file_extension": ".py",
   "mimetype": "text/x-python",
   "name": "python",
   "nbconvert_exporter": "python",
   "pygments_lexer": "ipython3",
   "version": "3.12.3"
  },
  "toc": {
   "base_numbering": 1,
   "nav_menu": {},
   "number_sections": true,
   "sideBar": true,
   "skip_h1_title": false,
   "title_cell": "Table of Contents",
   "title_sidebar": "Contents",
   "toc_cell": false,
   "toc_position": {
    "height": "calc(100% - 180px)",
    "left": "10px",
    "top": "150px",
    "width": "292.797px"
   },
   "toc_section_display": true,
   "toc_window_display": true
  }
 },
 "nbformat": 4,
 "nbformat_minor": 5
}
