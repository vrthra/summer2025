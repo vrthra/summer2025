{
 "cells": [
  {
   "cell_type": "markdown",
   "id": "6fcf68c9",
   "metadata": {},
   "source": [
    "# Prerequisites"
   ]
  },
  {
   "cell_type": "markdown",
   "id": "c851ae88",
   "metadata": {},
   "source": [
    "Please see the [README](https://github.com/vrthra/summer2025/blob/main/README.md) for the basic prerequisites."
   ]
  },
  {
   "cell_type": "markdown",
   "id": "39d93e75",
   "metadata": {},
   "source": [
    "## [x0_0_Prerequisites](/notebooks/x0_0_Prerequisites.ipynb)\n",
    "\n",
    "Run this before the tutorial starts."
   ]
  },
  {
   "cell_type": "markdown",
   "id": "3f91c09a",
   "metadata": {},
   "source": [
    "## [x0_1_Grammars](/notebooks/x0_1_Grammars.ipynb)\n",
    "\n",
    "This notebook describes the grammar format that we use in this tutorial, and provides a few sample grammars."
   ]
  },
  {
   "cell_type": "markdown",
   "id": "15acb854",
   "metadata": {},
   "source": [
    "## [x0_2_GrammarFuzzer](/notebooks/x0_2_GrammarFuzzer.ipynb)\n",
    "\n",
    "This notebook contains a partial implementation of the `F1` GrammarFuzzer (only in Python)."
   ]
  },
  {
   "cell_type": "markdown",
   "id": "cc2fb608",
   "metadata": {},
   "source": [
    "## [x0_3_Parser](/notebooks/x0_3_Parser.ipynb)\n",
    "\n",
    "This notebook contains an Earley parser implementation for any context-free grammar."
   ]
  },
  {
   "cell_type": "markdown",
   "id": "5eefe28b",
   "metadata": {},
   "source": [
    "## [x0_4_HierarchicalReducer](/notebooks/x0_4_HierarchicalReducer.ipynb)\n",
    "\n",
    "This notebook contains a partial implementation of the Perses hierarchical-deltadebugger."
   ]
  },
  {
   "cell_type": "markdown",
   "id": "02916cd8",
   "metadata": {},
   "source": [
    "# Generating Samples"
   ]
  },
  {
   "cell_type": "markdown",
   "id": "7569e593",
   "metadata": {},
   "source": [
    "## [x1_0_GeneratingSamples](/notebooks/x1_0_GeneratingSamples.ipynb) \n",
    "\n",
    "This notebook describes how to generate inputs using GA when the syntax specification is not available. Here, we assume that the parser can signal an error as soon as an incorrect byte or character is read from the input string.\n",
    "\n",
    "## [x1_1_TrackAccess](/notebooks/x1_1_TrackAccess.ipynb)\n",
    "\n",
    "In this notebook we show how to use a proxy string wrapper for the input string to identify the maximal parse of the input. Using this instrumentation we then describe a hillclimber that can generate more complex and diverse inputs."
   ]
  },
  {
   "cell_type": "markdown",
   "id": "cd339ba1",
   "metadata": {},
   "source": [
    "# Mining Grammar"
   ]
  },
  {
   "cell_type": "markdown",
   "id": "037fcf93",
   "metadata": {},
   "source": [
    "## [x2_0_MiningGrammar](/notebooks/x2_0_MiningGrammar.ipynb)\n",
    "This notebook  describes how to use the sample inputs for mining the syntax specification (context-free grammar) of a given parser."
   ]
  },
  {
   "cell_type": "markdown",
   "id": "20894d0d",
   "metadata": {},
   "source": [
    "# Abstracting Inputs"
   ]
  },
  {
   "cell_type": "markdown",
   "id": "9ec87849",
   "metadata": {},
   "source": [
    "## [x3_0_AbstractingInputs](/notebooks/x3_0_AbstractingInputs.ipynb)\n",
    "\n",
    "Given a specification, how to abstract any input that causes a bug resulting in a bug specification."
   ]
  },
  {
   "cell_type": "markdown",
   "id": "5bde54ae",
   "metadata": {},
   "source": [
    "# Input Algebras"
   ]
  },
  {
   "cell_type": "markdown",
   "id": "34fe978b",
   "metadata": {},
   "source": [
    "## [x4_0_InputAlgebras](/notebooks/x4_0_InputAlgebras.ipynb)\n",
    "This notebook shows how to combine the specifications of such bugs using and, or and negate for complex bug specifications. For example, one can specify that each input produced by a fuzzer should contain input patterns that induce bugs A, B, and either C or D but should not contain bug E."
   ]
  },
  {
   "cell_type": "markdown",
   "id": "7eae28fb-8389-4ebc-86e3-a5a10b614e75",
   "metadata": {},
   "source": [
    "# Blackbox Grammar Mining (L*)"
   ]
  },
  {
   "cell_type": "markdown",
   "id": "cc9ceca2-4a43-4457-8643-ab596cc2acd2",
   "metadata": {},
   "source": [
    "# Improvements to BB Grammar Mining\n",
    "* Use Shorter Prefixes\n",
    "* Use only adjuscent pair comparisons\n",
    "* Use prefixes"
   ]
  },
  {
   "cell_type": "markdown",
   "id": "4ae2dcd2-bf15-4c87-a226-ec1d60b25677",
   "metadata": {},
   "source": [
    "# Generating Programs"
   ]
  },
  {
   "cell_type": "markdown",
   "id": "70588089-1d4b-4726-9eb8-6b86195c62c0",
   "metadata": {},
   "source": [
    "# Binary Formats"
   ]
  }
 ],
 "metadata": {
  "kernelspec": {
   "display_name": "Python 3 (ipykernel)",
   "language": "python",
   "name": "python3"
  },
  "language_info": {
   "codemirror_mode": {
    "name": "ipython",
    "version": 3
   },
   "file_extension": ".py",
   "mimetype": "text/x-python",
   "name": "python",
   "nbconvert_exporter": "python",
   "pygments_lexer": "ipython3",
   "version": "3.12.3"
  },
  "toc": {
   "base_numbering": 1,
   "nav_menu": {},
   "number_sections": true,
   "sideBar": true,
   "skip_h1_title": false,
   "title_cell": "Table of Contents",
   "title_sidebar": "Contents",
   "toc_cell": false,
   "toc_position": {},
   "toc_section_display": true,
   "toc_window_display": true
  }
 },
 "nbformat": 4,
 "nbformat_minor": 5
}
